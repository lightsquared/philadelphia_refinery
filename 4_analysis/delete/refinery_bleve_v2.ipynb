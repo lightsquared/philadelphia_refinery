{
 "cells": [
  {
   "cell_type": "markdown",
   "metadata": {},
   "source": [
    "# Introduction\n",
    "On June 21, 2019, a fire and explosion, see \\cref{fig:fire}, occurred at the Girard Point Refinery owned by Philadelphia Energy Solutions \\cite{Renshaw2019}.  One of the three explosions observed that day was from the V1 treater-feed-surge-drum in the refineries pretreatment unit.  The explosion propelled the drum approximately 1,996.6 ft from the blast seat, see \\cref{fig:tank}.  It is hypothesized that a boiling-liquid expanding-vapor explosion (BLEVE) event provided the energy to generate the blast wave.  The Philadelphia Fire Department requested ATF estimate the blast overpressure generated when the tank exploded.  This paper is an engineering analysis to estimate the blast overpressure assuming a BLEVE occurred.  The analysis is based upon an adiabatic and isentropic energy analysis developed by the Center for Chemical Process Safety \\cite{Safety2010}. \n",
    "\n",
    "![A massive fire burns at Philadelphia Energy Solutions Inc's oil refinery \\cite{Maykuth2019}.](report_images/fig_refinery_fire.png){#fig:fire width=75% placement='H'}\n",
    "\n",
    "![Largest portion of the tank that was propelled 1,996.6 ft from the blast seat \\cite{Malone2019}.](report_images/1_fish_fillet1.jpg){#fig:tank width=75% placement='H'}\n",
    " \n",
    "\n",
    "# Background\n",
    "\n",
    "## Refinery\n",
    "\n",
    "The Girard Point Refinery is located in southwest Philadelphia, PA, on the Schuylkill River, see \\cref{fig:map}.  The refinery produced approximately 335,000 bpd of gasoline, and was the largest on the East Coast \\cite{AssociatedPress2019}.  The treater-feed-surge-drum, involved in the explosion, is part of the pretreatment process of alkylation used in the production of gasoline. \n",
    "\n",
    "![Map of Girard Point Refinery show the blast location \\cite{Duchneskie2019}.](report_images/fig_map_girard.jpeg){#fig:map width=75% placement='H'}\n",
    "\n",
    "## Treater Feed Surge Tank\n",
    "\n",
    "Alkylaition generally converts propylene $(C_3H_6)$, butylene $(C_4H_8)$, pentene $(C_5H_{10})$, and isobutane $(C_3H_{10})$ to alkane liquids such as isoheptane $(C_7H_{16})$ and isooctane $(C_8H_{16})$.  These Alkylates are a highly valued component in the production of gasoline because of there high octane and low vapor pressure \\cite{flowserve2000}.  The treater-feed-surge-drum (TFSD) was located between the fluid catalytic cracker and the alkylaition unit. Surge drums provide a measure of stability in that fluctuations are not transmitted along a chain of equipment.  The TFSD was part of the pretreatment process for alkylation, see \\cref{fig:fig_process_flow}.  During pretreatment, also referred to as sweetening, sulfur compounds (hydrogen sulfide, thiophene and mercaptan) are removed to improve color, odor, and oxidation stability.\n",
    "\n",
    "![Simple flow diagram of the sweetening and treating process where the TFSD was located at the time of the explosion. \\cite{Temur2014,Malone2019}](report_images/fig_process_flow.jpeg){#fig:fig_process_flow width=75% placement='H'}\n",
    "\n",
    "The TFSD tank measured 39'-8\" in length, not including the heads, see \\cref{tbl:tbl_tank} and \\cref{fig:fig_tank} for construction details \\cite{PES2019}. At the time of the explosion, the TFSD contained 98,874 lb of butane (50% by volume) and butene (40% by volume) and other lesser constituients, see \\cref{tbl:tbl_chemicals_in_tank}.\n",
    "\n",
    "Parameter             Value              Units\n",
    "--------              --------           --------\n",
    "Type                  horizontal         NA\n",
    "Year Built            1972               NA\n",
    "Construction Material A516 Type 70 Steel NA\n",
    "Tank Wall Thickness   0.8125             in\n",
    "Volume                372228             gal\n",
    "Working Pressure      155                psi\n",
    "Maximum Temperature   650                $^{\\circ}F$\n",
    "Test Pressure         295                psi\n",
    "Safety Valve          3\"x4\" 4136         Set at 155 psig\n",
    "\n",
    "Table: Treater-Feed-Surge-Drum Construction Parameters \\cite{PES2019} {#tbl:tbl_tank align=rll widths=[0.25,0.25,0.25]}\n",
    "\n",
    "![Diagram depicting the dimensions of the TFSD tank.  The tank was positioned 25 ft above ground level and estimated to contain 20,160 gal (480 bbl) of butane (50% by volume) and butene (40% by volume) at the time of the explosion.\\cite{PES2019}](report_images/fig_tank.jpeg){#fig:fig_tank width=75% placement='H'}\n",
    "\n",
    "Chemical  Percent by Volume\n",
    "--------  --------\n",
    "methane     0.01\n",
    "ethylene    0.00\n",
    "ethane      0.01\n",
    "propane     0.90\n",
    "propylene   0.10\n",
    "isobutane  37.28\n",
    "nbutane    12.81\n",
    "butens     40.41\n",
    "neopentane  0.00\n",
    "isopentane  3.94\n",
    "npentane    0.25\n",
    "butadiene   0.33\n",
    "benzene     0.00\n",
    "C5 olefins  3.54\n",
    "C6 sats     0.33\n",
    "C7+         0.04\n",
    "\n",
    "Table: Sample of Chemical Contents in the Treater-Feed-Surge-Drum Closest to the Time of the Explosion \\cite{PES2019} {#tbl:tbl_chemicals_in_tank align=rr widths=[0.2,0.2]}\n",
    "\n",
    "## Pressure Relief Valve\n",
    "\n",
    "The TFSD was fitted with a Consolidated (1906-30LC-1-CC-MS-31-RF-1) 3\" x 4\" pressure relief valve (PRV).  The relief pressure was set to 155 psig and the relief temperature was set to 183.5 $^\\circF$.  The PRV was positioned on the top of the TRFD, see \\cref{fig:fig_tank}.\n",
    "\n",
    "## Boiling-Liquid Expanding-Vapor Explosion (BLEVE)\n",
    "\n",
    "A BLEVE results from the sudden failure of a tank containing a compressed vapor (head space) and a super-heated liquid (a liquid heated above it's boiling point but without boiling). The magnitude of the blast depends on how super-heated the liquid was at failure.  As the level of super-heat rises, the portion of liquid that flash-boils rises, thus increasing the energy released.  Once containment failure occurs the energy is distributed into four forms:\n",
    "\n",
    "1. Overpressure wave\n",
    "2. Kinetic energy of fragments\n",
    "3. Deformation and failure of the containment material\n",
    "4. Heat transferred to environment\n",
    "\n",
    "The distribution of the energy into the these four forms depends on the specifics of the explosion.  Planas-Cuchi et al. found that a *fragile* failure releases 80% of the energy into the blastwave, while a *ductile* failure releases 40% of the energy into the blastwave.  The remaining energy becomes kinetic energy of the fragments.  The heat transfer to the environment is relatively small \\cite{Planas2004}.  In practice most pressure vessels are designed with materials that are ductile rather than brittle to avoid sudden and catastrophic brittle (fragile) failures \\cite{Benac2016}.\n",
    "\n"
   ]
  },
  {
   "cell_type": "markdown",
   "metadata": {},
   "source": [
    "# Notebook Imports"
   ]
  },
  {
   "cell_type": "code",
   "execution_count": 4,
   "metadata": {
    "ipub": {
     "ignore": true
    }
   },
   "outputs": [],
   "source": [
    "# Data manipulation\n",
    "import pandas as pd\n",
    "import numpy as np\n",
    "from scipy.interpolate import griddata\n",
    "\n",
    "# Options for pandas\n",
    "pd.options.display.max_columns = 50\n",
    "pd.options.display.max_rows = 30\n",
    "\n",
    "# Display all cell outputs\n",
    "from IPython.core.interactiveshell import InteractiveShell\n",
    "InteractiveShell.ast_node_interactivity = 'all'\n",
    "\n",
    "from IPython import get_ipython\n",
    "ipython = get_ipython()\n",
    "\n",
    "# autoreload extension\n",
    "if 'autoreload' not in ipython.extension_manager.loaded:\n",
    "    %load_ext autoreload\n",
    "\n",
    "%autoreload 2\n",
    "\n",
    "# Visualizations\n",
    "import matplotlib.pyplot as plt\n",
    "h = 8\n",
    "w = h*1.61803398875\n",
    "font = {'family' : 'serif',\n",
    "        'weight' : 'bold',\n",
    "        'size'   : 16}\n",
    "\n",
    "plt.rc('font', **font)\n",
    "\n",
    "# Thermodynamics\n",
    "import CoolProp\n",
    "\n",
    "# Publish\n",
    "from ipypublish.scripts import nb_setup"
   ]
  },
  {
   "cell_type": "markdown",
   "metadata": {},
   "source": [
    "# Thermodynamic Data\n",
    "## Pressure at State 1 (Pre-failure State)\n",
    "The drum (tank) is assumed to fail at $1.21$ times the opening pressure of the pressure relief valve (PRV)\\cite{Engineers2013}.  The PRV was set to open at $15\\:MPa$ therefore, the absolute pressure at state 1 (failure state) is given by,\n",
    "\n",
    "$$p_1 = 1.21\\left(p_{PRV}+p_{atm}\\right)$$\n",
    "$$p_1 = 1.21\\left(1500000+101325\\right)$$\n",
    "$$p_1 = 1.916\\:MPa$$\n",
    "\n",
    "## Pressure at State 2 (Final Expanded State)\n",
    "The pressure at state 2 (final expanded state) is standard atmospheric pressure or $0.101\\:MPa$.  The other state variables can be determined based on the \"saturated\" state of the propane inside the tank and the known pressures.  The thermodynamic data for states 1 and 2 is summarized in Table (\\cref{tbl:thermo})."
   ]
  },
  {
   "cell_type": "code",
   "execution_count": 5,
   "metadata": {
    "ipub": {
     "ignore": true
    }
   },
   "outputs": [],
   "source": [
    "p_relief = 1500000 #Pa\n",
    "p_atm = 101325 #Pa \n",
    "p_1 = 1.21*(p_relief + p_atm) # Pa absolute\n",
    "p_2  = 101325; # atmospheric pressure\n",
    "V_1 = 25 #m^3\n",
    "Pct_f = 0.8 # percent fluid in the tank\n",
    "Pct_g = 1 - Pct_f # percent vapor in the tank\n",
    "R = 100 # range where overpressure is needed.\n",
    "a0 = 340 #m/s speed of sound in air at STP"
   ]
  },
  {
   "cell_type": "code",
   "execution_count": 6,
   "metadata": {
    "ipub": {
     "table": {
      "caption": "Propane Thermodynamic Data for Inital (1) and Final (2) States",
      "label": "tbl:thermo",
      "placement": "H"
     }
    }
   },
   "outputs": [
    {
     "data": {
      "text/html": [
       "<div>\n",
       "<style scoped>\n",
       "    .dataframe tbody tr th:only-of-type {\n",
       "        vertical-align: middle;\n",
       "    }\n",
       "\n",
       "    .dataframe tbody tr th {\n",
       "        vertical-align: top;\n",
       "    }\n",
       "\n",
       "    .dataframe thead th {\n",
       "        text-align: right;\n",
       "    }\n",
       "</style>\n",
       "<table border=\"1\" class=\"dataframe\">\n",
       "  <thead>\n",
       "    <tr style=\"text-align: right;\">\n",
       "      <th></th>\n",
       "      <th>$P \\left(kPa\\right)$</th>\n",
       "      <th>$h_f \\left(\\frac{kJ}{kg}\\right)$</th>\n",
       "      <th>$h_g \\left(\\frac{kJ}{kg}\\right)$</th>\n",
       "      <th>$v_f \\left(\\frac{m^3}{kg}\\right)$</th>\n",
       "      <th>$v_g \\left(\\frac{m^3}{kg}\\right)$</th>\n",
       "      <th>$u_f \\left(\\frac{kJ}{kg\\:K}\\right)$</th>\n",
       "      <th>$u_g \\left(\\frac{kJ}{kg\\:K}\\right)$</th>\n",
       "      <th>$s_f \\left(\\frac{kJ}{kg\\:K}\\right)$</th>\n",
       "      <th>$s_g \\left(\\frac{kJ}{kg\\:K}\\right)$</th>\n",
       "    </tr>\n",
       "    <tr>\n",
       "      <th>State</th>\n",
       "      <th></th>\n",
       "      <th></th>\n",
       "      <th></th>\n",
       "      <th></th>\n",
       "      <th></th>\n",
       "      <th></th>\n",
       "      <th></th>\n",
       "      <th></th>\n",
       "      <th></th>\n",
       "    </tr>\n",
       "  </thead>\n",
       "  <tbody>\n",
       "    <tr>\n",
       "      <th>1</th>\n",
       "      <td>1937.60325</td>\n",
       "      <td>354584.413136</td>\n",
       "      <td>625197.730383</td>\n",
       "      <td>0.002287</td>\n",
       "      <td>0.022459</td>\n",
       "      <td>350.152477</td>\n",
       "      <td>581.681515</td>\n",
       "      <td>1.503188</td>\n",
       "      <td>2.325970</td>\n",
       "    </tr>\n",
       "    <tr>\n",
       "      <th>2</th>\n",
       "      <td>101.32500</td>\n",
       "      <td>100356.292970</td>\n",
       "      <td>525947.893053</td>\n",
       "      <td>0.001722</td>\n",
       "      <td>0.413884</td>\n",
       "      <td>100.181860</td>\n",
       "      <td>484.011098</td>\n",
       "      <td>0.607045</td>\n",
       "      <td>2.449144</td>\n",
       "    </tr>\n",
       "  </tbody>\n",
       "</table>\n",
       "</div>"
      ],
      "text/latex": [
       "\\begin{tabular}{lrrrrrrrrr}\n",
       "\\toprule\n",
       "{} &  $P \\left(kPa\\right)$ &  $h_f \\left(\\frac{kJ}{kg}\\right)$ &  $h_g \\left(\\frac{kJ}{kg}\\right)$ &  $v_f \\left(\\frac{m^3}{kg}\\right)$ &  $v_g \\left(\\frac{m^3}{kg}\\right)$ &  $u_f \\left(\\frac{kJ}{kg\\:K}\\right)$ &  $u_g \\left(\\frac{kJ}{kg\\:K}\\right)$ &  $s_f \\left(\\frac{kJ}{kg\\:K}\\right)$ &  $s_g \\left(\\frac{kJ}{kg\\:K}\\right)$ \\\\\n",
       "State &                       &                                   &                                   &                                    &                                    &                                      &                                      &                                      &                                      \\\\\n",
       "\\midrule\n",
       "1     &            1937.60325 &                     354584.413136 &                     625197.730383 &                           0.002287 &                           0.022459 &                           350.152477 &                           581.681515 &                             1.503188 &                             2.325970 \\\\\n",
       "2     &             101.32500 &                     100356.292970 &                     525947.893053 &                           0.001722 &                           0.413884 &                           100.181860 &                           484.011098 &                             0.607045 &                             2.449144 \\\\\n",
       "\\bottomrule\n",
       "\\end{tabular}\n"
      ],
      "text/plain": [
       "       $P \\left(kPa\\right)$  $h_f \\left(\\frac{kJ}{kg}\\right)$  \\\n",
       "State                                                           \n",
       "1                1937.60325                     354584.413136   \n",
       "2                 101.32500                     100356.292970   \n",
       "\n",
       "       $h_g \\left(\\frac{kJ}{kg}\\right)$  $v_f \\left(\\frac{m^3}{kg}\\right)$  \\\n",
       "State                                                                        \n",
       "1                         625197.730383                           0.002287   \n",
       "2                         525947.893053                           0.001722   \n",
       "\n",
       "       $v_g \\left(\\frac{m^3}{kg}\\right)$  $u_f \\left(\\frac{kJ}{kg\\:K}\\right)$  \\\n",
       "State                                                                           \n",
       "1                               0.022459                           350.152477   \n",
       "2                               0.413884                           100.181860   \n",
       "\n",
       "       $u_g \\left(\\frac{kJ}{kg\\:K}\\right)$  \\\n",
       "State                                        \n",
       "1                               581.681515   \n",
       "2                               484.011098   \n",
       "\n",
       "       $s_f \\left(\\frac{kJ}{kg\\:K}\\right)$  \\\n",
       "State                                        \n",
       "1                                 1.503188   \n",
       "2                                 0.607045   \n",
       "\n",
       "       $s_g \\left(\\frac{kJ}{kg\\:K}\\right)$  \n",
       "State                                       \n",
       "1                                 2.325970  \n",
       "2                                 2.449144  "
      ]
     },
     "execution_count": 6,
     "metadata": {},
     "output_type": "execute_result"
    }
   ],
   "source": [
    "from CoolProp.CoolProp import PropsSI\n",
    "s_g1 = PropsSI('S','P',p_1,'Q',1,'Propane')/1000;\n",
    "s_f1 = PropsSI('S','P',p_1,'Q',0,'Propane')/1000; \n",
    "v_g1 = 1/PropsSI('D','P',p_1,'Q',1,'Propane'); \n",
    "v_f1 = 1/PropsSI('D','P',p_1,'Q',0,'Propane'); \n",
    "h_g1 = PropsSI('H','P',p_1,'Q',1,'Propane'); \n",
    "h_f1 = PropsSI('H','P',p_1,'Q',0,'Propane');\n",
    "u_g1 = (h_g1 - p_1*(v_g1))/1000;\n",
    "u_f1 = (h_f1 - p_1*(v_f1))/1000;\n",
    "\n",
    "\n",
    "s_g2 = PropsSI('S','P',p_2,'Q',1,'Propane')/1000; \n",
    "s_f2 = PropsSI('S','P',p_2,'Q',0,'Propane')/1000; \n",
    "v_g2 = 1/PropsSI('D','P',p_2,'Q',1,'Propane'); \n",
    "v_f2 = 1/PropsSI('D','P',p_2,'Q',0,'Propane'); \n",
    "h_g2 = PropsSI('H','P',p_2,'Q',1,'Propane'); \n",
    "h_f2 = PropsSI('H','P',p_2,'Q',0,'Propane');\n",
    "u_f2 = (h_f2 - p_2*(v_f2))/1000;\n",
    "u_g2 = (h_g2 - p_2*(v_g2))/1000;\n",
    "\n",
    "# Define a dictionary containing the study data\n",
    "verify_data = {'State': [1, 2],\n",
    "               '$P \\\\left(kPa\\\\right)$': [p_1/1000, p_2/1000],\n",
    "               '$h_f \\\\left(\\\\frac{kJ}{kg}\\\\right)$': [h_f1, h_f2],\n",
    "               r'$h_g \\left(\\frac{kJ}{kg}\\right)$': [h_g1, h_g2],\n",
    "               r'$v_f \\left(\\frac{m^3}{kg}\\right)$': [v_f1, v_f2],\n",
    "               r'$v_g \\left(\\frac{m^3}{kg}\\right)$': [v_g1, v_g2],\n",
    "               r'$u_f \\left(\\frac{kJ}{kg\\:K}\\right)$': [u_f1, u_f2],\n",
    "               r'$u_g \\left(\\frac{kJ}{kg\\:K}\\right)$': [u_g1, u_g2],\n",
    "               r'$s_f \\left(\\frac{kJ}{kg\\:K}\\right)$': [s_f1, s_f2],\n",
    "               r'$s_g \\left(\\frac{kJ}{kg\\:K}\\right)$': [s_g1, s_g2],\n",
    "               }\n",
    "# Convert the dictionary into DataFrame\n",
    "pd = nb_setup.setup_pandas(escape_latex=False)\n",
    "df = pd.DataFrame(verify_data)\n",
    "df.set_index('State', inplace=True)\n",
    "df"
   ]
  },
  {
   "cell_type": "markdown",
   "metadata": {},
   "source": [
    "# Internal Energy at States 1 and 2\n",
    "## Internal Energy at State 1\n",
    "The internal energy at at state 1 (saturated) is calculated from,\n",
    "\n",
    "$$h = u + pv$$\n",
    "\n",
    "where $h$ is the enthalpy, $p$ is the pressure, and $v$ is the specific volume.  Therefore, for state 1 (fluid and gas) we have,\n",
    "\n",
    "$$u = h - pv$$\n",
    "\n",
    "\n",
    "$$u_{1f} = h_{1f} - p_1v_{1f}$$\n",
    "$$u_{1f} = 354584.4 - (1937.603\\:kPa)(0.002287\\:m^3/kg)$$\n",
    "$$u_{1f} = 350.15\\:kJ/kg$$\n",
    "\n",
    "\n",
    "$$u_{1g} = h_{1g} - p_1v_{1g}$$\n",
    "$$u_{1g} = 100356.29 - (101.325\\:kPa)(0.001722\\:m^3/kg)$$\n",
    "$$u_{1g} = 581.68\\:kJ/kg$$\n",
    "\n",
    "and similarly for state 2,\n",
    "\n",
    "$$u_{2f} = 100.18\\:kJ/kg$$\n",
    "$$u_{2g} = 484.01\\:kJ/kg$$"
   ]
  },
  {
   "cell_type": "code",
   "execution_count": 7,
   "metadata": {
    "ipub": {
     "ignore": true
    }
   },
   "outputs": [
    {
     "data": {
      "text/plain": [
       "(0.4864791723049555, 0.06686628090140856)"
      ]
     },
     "execution_count": 7,
     "metadata": {},
     "output_type": "execute_result"
    }
   ],
   "source": [
    "Xf = (s_f1 - s_f2)/(s_g2-s_f2)\n",
    "Xg = (s_g2 - s_g1)/(s_g2-s_f2)\n",
    "Xf, Xg"
   ]
  },
  {
   "cell_type": "code",
   "execution_count": 8,
   "metadata": {
    "ipub": {
     "ignore": true
    }
   },
   "outputs": [
    {
     "data": {
      "text/plain": [
       "(286.9067902559326, 458.34586460946844)"
      ]
     },
     "execution_count": 8,
     "metadata": {},
     "output_type": "execute_result"
    }
   ],
   "source": [
    "u_2_fluid = (1-Xf)*u_f2 + Xf*u_g2\n",
    "u_2_vapor = (1-Xg)*u_g2 + Xg*u_f2\n",
    "u_2_fluid, u_2_vapor"
   ]
  },
  {
   "cell_type": "markdown",
   "metadata": {},
   "source": [
    "## Internal Energy at State 2\n",
    "When the drum breaks and the propane at state 1 expands to state 2 (atmospheric pressure) some of the liquid propane vaporizes and some of the gaseous propane condenses. Therefore unlike at the saturated state 1, there is both vapor and fluid present.  We can calculate the vapor present using the vapor quality $(\\chi)$, from,\n",
    "\n",
    "$$\\chi = \\frac{\\nu_{tot} - \\nu_f}{\\nu_g-\\nu_f}$$\n",
    "\n",
    "where $\\nu$ is the specific gravity.  This equation is also true for the entropy $(s)$, internal energy $(u)$, and enthalpy $(h)$.  Using the entropy $(s)$ we can calculate the quality of the saturated liquid and vapor as the propane transitions from state 1 to state 2.  Therefore, the liquid vapor quality at state 2 is given by s\n",
    "\n",
    "$$\\chi_f = \\frac{s_{f1} - s_{f2}}{s_{g2}-s_{f2}}$$\n",
    "\n",
    "$$\\chi_f = \\frac{1.503188 - 0.607045}{2.449144-0.607045}$$\n",
    "\n",
    "$$\\chi_f = 0.4865$$\n",
    "\n",
    "and for the vapor at state 2,\n",
    "\n",
    "$$\\chi_g = \\frac{s_{g2} - s_{g1}}{s_{g2}-s_{f2}}$$\n",
    "\n",
    "$$\\chi_g= \\frac{2.449144 - 2.325970}{2.449144-0.607045}$$\n",
    "\n",
    "$$\\chi_g = 0.06687$$\n",
    "\n",
    "We can then calculate the internal energy at state 2 using,\n",
    "\n",
    "$$u_{2-fluid} = (1-\\chi_f)u_{f2} + \\chi_f u_{g2}$$\n",
    "$$u_{2-vapor} = (1-\\chi_g)u_{g2} + \\chi_g u_{f2}$$\n",
    "\n",
    "$$u_{2-fluid} = (1-0.4865)100.1818 + (0.4865)(484.0111)$$\n",
    "$$u_{2-vapor} = (1-0.0668)484.0111 + (0.0668)(100.1818)$$\n",
    "\n",
    "$$u_{2-fluid} = 286.9068\\:kJ/kg$$\n",
    "$$u_{2-vapor} = 458.3459\\:kJ/kg$$"
   ]
  },
  {
   "cell_type": "code",
   "execution_count": 9,
   "metadata": {
    "ipub": {
     "ignore": true
    }
   },
   "outputs": [
    {
     "data": {
      "text/plain": [
       "(63.24568624540922, 123.33565035122353)"
      ]
     },
     "execution_count": 9,
     "metadata": {},
     "output_type": "execute_result"
    }
   ],
   "source": [
    "e_exf = u_f1 - u_2_fluid\n",
    "e_exg = u_g1 - u_2_vapor\n",
    "\n",
    "e_exf, e_exg"
   ]
  },
  {
   "cell_type": "markdown",
   "metadata": {},
   "source": [
    "# The Specific Work\n",
    "The work that the expanding vapor and fluid can perform is the difference between the initial (1) and final (2) states,\n",
    "\n",
    "$$e_{ex} = u_1 - u_2$$\n",
    "\n",
    "for the saturated fluid we have,\n",
    "\n",
    "$$e_{exf} = u_{f1} - u_{2-fluid}$$\n",
    "$$e_{exf} = 350.15 - 286.91$$\n",
    "$$e_{exf} = 63.25\\:kJ/kg$$\n",
    "\n",
    "and for the vapor,\n",
    "\n",
    "$$e_{exg} = u_{g1} - u_{2-vapor}$$\n",
    "$$e_{exg} = 581.68 - 458.35$$\n",
    "$$e_{exg} = 123.34\\:kJ/kg$$"
   ]
  },
  {
   "cell_type": "code",
   "execution_count": 10,
   "metadata": {},
   "outputs": [
    {
     "data": {
      "text/plain": [
       "(8743.821988545078, 222.63002781996232)"
      ]
     },
     "execution_count": 10,
     "metadata": {},
     "output_type": "execute_result"
    },
    {
     "data": {
      "text/plain": [
       "(1106018.0441464642, 54916.43853777208)"
      ]
     },
     "execution_count": 10,
     "metadata": {},
     "output_type": "execute_result"
    },
    {
     "data": {
      "text/plain": [
       "1160934.4826842363"
      ]
     },
     "execution_count": 10,
     "metadata": {},
     "output_type": "execute_result"
    }
   ],
   "source": [
    "m_f1 = Pct_f*V_1/v_f1 # mass of fluid at state 1\n",
    "m_g1 = Pct_g*V_1/v_g1 # mass of gas at state 1\n",
    "m_f1,m_g1\n",
    "E_exf = 2*e_exf*m_f1 # explosion energy of fluid on the ground (factor of 2) at state 1\n",
    "E_exg = 2*e_exg*m_g1 # explosion energy of gas on the ground at state 1\n",
    "E_exf, E_exg\n",
    "E_extot = E_exf+E_exg # total explosion energy on the ground at state 1\n",
    "E_extot"
   ]
  },
  {
   "cell_type": "code",
   "execution_count": 11,
   "metadata": {},
   "outputs": [
    {
     "data": {
      "text/plain": [
       "(4.441950730199333, 19.12265729089563)"
      ]
     },
     "execution_count": 11,
     "metadata": {},
     "output_type": "execute_result"
    }
   ],
   "source": [
    "R_bar = R*(101325/1156.1e6)**(1/3)\n",
    "R_bar, p_1/p_atm"
   ]
  },
  {
   "cell_type": "code",
   "execution_count": 15,
   "metadata": {},
   "outputs": [
    {
     "data": {
      "text/html": [
       "<div>\n",
       "<style scoped>\n",
       "    .dataframe tbody tr th:only-of-type {\n",
       "        vertical-align: middle;\n",
       "    }\n",
       "\n",
       "    .dataframe tbody tr th {\n",
       "        vertical-align: top;\n",
       "    }\n",
       "\n",
       "    .dataframe thead th {\n",
       "        text-align: right;\n",
       "    }\n",
       "</style>\n",
       "<table border=\"1\" class=\"dataframe\">\n",
       "  <thead>\n",
       "    <tr style=\"text-align: right;\">\n",
       "      <th></th>\n",
       "      <th>P</th>\n",
       "      <th>R</th>\n",
       "      <th>w</th>\n",
       "      <th>z</th>\n",
       "    </tr>\n",
       "  </thead>\n",
       "  <tbody>\n",
       "    <tr>\n",
       "      <th>0</th>\n",
       "      <td>3.128611</td>\n",
       "      <td>0.238936</td>\n",
       "      <td>5.0</td>\n",
       "      <td>$p/p_0=5.0$</td>\n",
       "    </tr>\n",
       "    <tr>\n",
       "      <th>1</th>\n",
       "      <td>3.118639</td>\n",
       "      <td>0.252979</td>\n",
       "      <td>5.0</td>\n",
       "      <td>$p/p_0=5.0$</td>\n",
       "    </tr>\n",
       "    <tr>\n",
       "      <th>2</th>\n",
       "      <td>3.106715</td>\n",
       "      <td>0.270923</td>\n",
       "      <td>5.0</td>\n",
       "      <td>$p/p_0=5.0$</td>\n",
       "    </tr>\n",
       "    <tr>\n",
       "      <th>3</th>\n",
       "      <td>3.094836</td>\n",
       "      <td>0.290141</td>\n",
       "      <td>5.0</td>\n",
       "      <td>$p/p_0=5.0$</td>\n",
       "    </tr>\n",
       "    <tr>\n",
       "      <th>4</th>\n",
       "      <td>3.086942</td>\n",
       "      <td>0.303704</td>\n",
       "      <td>5.0</td>\n",
       "      <td>$p/p_0=5.0$</td>\n",
       "    </tr>\n",
       "  </tbody>\n",
       "</table>\n",
       "</div>"
      ],
      "text/latex": [
       "\\begin{tabular}{lrrrl}\n",
       "\\toprule\n",
       "{} &         P &         R &    w &            z \\\\\n",
       "\\midrule\n",
       "0 &  3.128611 &  0.238936 &  5.0 &  $p/p_0=5.0$ \\\\\n",
       "1 &  3.118639 &  0.252979 &  5.0 &  $p/p_0=5.0$ \\\\\n",
       "2 &  3.106715 &  0.270923 &  5.0 &  $p/p_0=5.0$ \\\\\n",
       "3 &  3.094836 &  0.290141 &  5.0 &  $p/p_0=5.0$ \\\\\n",
       "4 &  3.086942 &  0.303704 &  5.0 &  $p/p_0=5.0$ \\\\\n",
       "\\bottomrule\n",
       "\\end{tabular}\n"
      ],
      "text/plain": [
       "          P         R    w            z\n",
       "0  3.128611  0.238936  5.0  $p/p_0=5.0$\n",
       "1  3.118639  0.252979  5.0  $p/p_0=5.0$\n",
       "2  3.106715  0.270923  5.0  $p/p_0=5.0$\n",
       "3  3.094836  0.290141  5.0  $p/p_0=5.0$\n",
       "4  3.086942  0.303704  5.0  $p/p_0=5.0$"
      ]
     },
     "execution_count": 15,
     "metadata": {},
     "output_type": "execute_result"
    }
   ],
   "source": [
    "hc5 = pd.read_csv('bleve_overpressure_curves/p1_p0_5.csv'); hc5['z'] = r'$p/p_0=5.0$'; hc5['w'] = 5.0\n",
    "hc10 = pd.read_csv('bleve_overpressure_curves/p1_p0_10.csv'); hc10['z'] = r'$p/p_0=10.0$'; hc10['w'] = 10.0\n",
    "hc20 = pd.read_csv('bleve_overpressure_curves/p1_p0_20.csv'); hc20['z'] = r'$p/p_0=20.0$'; hc20['w'] = 20.0\n",
    "hc50 = pd.read_csv('bleve_overpressure_curves/p1_p0_50.csv'); hc50['z'] = r'$p/p_0=50.0$'; hc50['w'] = 50.0\n",
    "hc100 = pd.read_csv('bleve_overpressure_curves/p1_p0_100.csv'); hc100['z'] = r'$p/p_0=100.0$'; hc100['w'] = 100.0\n",
    "hc200 = pd.read_csv('bleve_overpressure_curves/p1_p0_200.csv'); hc200['z'] = r'$p/p_0=200.0$'; hc200['w'] = 200.0\n",
    "hc500 = pd.read_csv('bleve_overpressure_curves/p1_p0_500.csv'); hc500['z'] = r'$p/p_0=500.0$'; hc500['w'] = 500.0\n",
    "hc1000 = pd.read_csv('bleve_overpressure_curves/p1_p0_1000.csv'); hc1000['z'] = r'$p/p_0=1000.0$'; hc1000['w'] = 1000.0\n",
    "frame = [hc5, hc10, hc20, hc50, hc100, hc200, hc500, hc1000]\n",
    "df = pd.concat(frame, sort=True)\n",
    "df.head()"
   ]
  },
  {
   "cell_type": "code",
   "execution_count": 16,
   "metadata": {
    "scrolled": false
   },
   "outputs": [
    {
     "data": {
      "text/plain": [
       "array(0.06403677)"
      ]
     },
     "execution_count": 16,
     "metadata": {},
     "output_type": "execute_result"
    }
   ],
   "source": [
    "#on a grid in [2, 18]x[0, 10] which was the axes of the\n",
    "#original paper. The imaginary numbers 200j will break\n",
    "#the grid into 200 equal spaces.\n",
    "\n",
    "grid_x, grid_y = np.mgrid[0:10:200j, 0:1000:200j]\n",
    "\n",
    "#we know the x,y,z values from the original plot image \n",
    "\n",
    "points = df[['R','P']].values\n",
    "values = df['w'].values\n",
    "\n",
    "points_df = df[['R','w']].values\n",
    "values_df = df['P'].values\n",
    "\n",
    "#The cubic method of griddata was used for interpolation.  Grid_x and Grid_y\n",
    "#can be either a matrix of points or a single pair.\n",
    "grid_z2 = griddata(points_df, values_df, (grid_x, grid_y), method='cubic')\n",
    "\n",
    "sd_p_vert = 20\n",
    "sd_r_horz = 4.4\n",
    "pv = griddata(points_df, values_df, (sd_r_horz, sd_p_vert), method='cubic')\n",
    "pv"
   ]
  },
  {
   "cell_type": "code",
   "execution_count": 18,
   "metadata": {},
   "outputs": [
    {
     "data": {
      "image/png": "[encoded data removed]",
      "text/plain": [
       "<Figure size 931.988x576 with 1 Axes>"
      ]
     },
     "metadata": {
      "needs_background": "light"
     },
     "output_type": "display_data"
    }
   ],
   "source": [
    "# Get an empty figure\n",
    "fig1 = plt.figure(figsize = [w,h])\n",
    "\n",
    "# Get the axes instance at 1st location in 1x1 grid\n",
    "ax = fig1.add_subplot(1,1,1)\n",
    "\n",
    "# Generate the plot\n",
    "#grpd = df.groupby('z'); #Group by latex name\n",
    "grpd = df.groupby('w').apply(lambda x: x.sort_values('z')) # Group by 'w' then sort by 'z'\n",
    "for name in grpd['z'].unique(): # Iterate through grouped values of z and plot\n",
    "    plt.loglog(df[df.z==name].R.values, df[df.z==name].P.values, label = name);\n",
    "plt.plot(sd_r_horz,pv,'rp', label = '$Nondimensional\\:Overpressure$');\n",
    "plt.legend();\n",
    "plt.axhline(y=pv, color='r', linestyle='-')\n",
    "plt.axvline(x=sd_r_horz, color='r', linestyle='-')\n",
    "#plt.text(sd_r_horz, pv/2, '$\\left({{{}}},{{{}}}\\right)$'.format([sd_r_horz,pv]), ha='right', va='center')\n",
    "\n",
    "# Set labels for x and y axis\n",
    "ax.set_xlabel('$R/(E/p_0)^{1/3}$');\n",
    "ax.set_ylabel('$(P-p_0)/p_0$');\n",
    "ax.grid(True, which='both')\n",
    "\n",
    "# Display the figure\n",
    "plt.show();"
   ]
  },
  {
   "cell_type": "code",
   "execution_count": null,
   "metadata": {
    "scrolled": true
   },
   "outputs": [],
   "source": [
    "#Read in all the data for the triple point.\n",
    "\n",
    "#on a grid in [2, 18]x[0, 10] which was the axes of the\n",
    "#original paper. The imaginary numbers 200j will break\n",
    "#the grid into 200 equal spaces.\n",
    "\n",
    "#grid_x, grid_y = np.mgrid[0:10:2000j, 0:1000:2000j]\n",
    "\n",
    "#we know the x,y,z values from the original plot image \n",
    "\n",
    "#points = tp[['R','P']].values\n",
    "#values = tp['z'].values\n",
    "\n",
    "#points_tp = tp[['R','P']].values\n",
    "#values_tp = tp['P'].values\n",
    "\n",
    "#The cubic method of griddata was used for interpolation.  Grid_x and Grid_y\n",
    "#can be either a matrix of points or a single pair.\n",
    "#grid_z2 = griddata(points, values, (grid_x, grid_y), method='cubic')\n",
    "\n",
    "#We plot the original curves and the interpolated point.\n",
    "\n",
    "\n",
    "#plt.legend(title=r'Postive Overpressure Curves for Pressure Vessels$', loc='upper right', bbox_to_anchor=(1.5, 1.0))\n",
    "#plt.title('Triple Point (Cubic Interperpolation)')\n",
    "#plt.xlabel(r'Scaled Horizontal Distance from Charge, $\\frac{R}{\\left(E/p_0\\right)^{1/3}}$')\n",
    "#plt.ylabel(r'Scaled Pressure, $\\frac{P-P_0}{P_0}$')\n",
    "\n",
    "#sd_c_vert = 4\n",
    "#sd_c_horz = 15.0\n",
    "#triple_pt = griddata(points_tp, values_tp, (sd_c_horz, sd_c_vert), method='cubic')\n",
    "#plt.plot(sd_c_horz, triple_pt, 'o', color='k')\n",
    "#plt.annotate('{:.2f}'.format(float(triple_pt)), xy=(sd_c_horz, triple_pt),xytext=(sd_c_horz, triple_pt), textcoords='offset points')\n",
    "\n"
   ]
  },
  {
   "cell_type": "code",
   "execution_count": null,
   "metadata": {},
   "outputs": [],
   "source": [
    "P_p_p = 0.058\n",
    "I = 0.014\n",
    "OP = p_atm*P_p_p # Pa\n",
    "Im = I*(((p_atm)**(2/3))*((E_extot)**(1/3)))/a0 #kPa-s\n",
    "OP, Im"
   ]
  },
  {
   "cell_type": "markdown",
   "metadata": {},
   "source": [
    "# Cleanup Data\n",
    "Like families, tidy datasets are all alike but every messy dataset is messy in its own way. Tidy datasets provide a standardized way to link the structure of a dataset (its physical layout) with its semantics (its meaning). In this section, I’ll provide some standard vocabulary for describing the structure and semantics of a dataset, and then use those definitions to define tidy data.\n",
    "[tidyr](https://tidyr.tidyverse.org/articles/tidy-data.html)\n",
    "      "
   ]
  },
  {
   "cell_type": "markdown",
   "metadata": {},
   "source": [
    "# Analysis/Modeling"
   ]
  },
  {
   "cell_type": "markdown",
   "metadata": {},
   "source": [
    "# Results\n",
    "- Focus on main analysis steps and findings\n",
    "- Remove intermediate results or move to supplement\n",
    "      "
   ]
  },
  {
   "cell_type": "markdown",
   "metadata": {},
   "source": [
    "# Conclusion"
   ]
  }
 ],
 "metadata": {
  "celltoolbar": "Edit Metadata",
  "ipub": {
   "bibliography": "/Users/skmcneill/Documents/Github/comprehensive/5_reports/bibliography/library.bib",
   "biboptions": [
    "super",
    "sort"
   ],
   "bibstyle": "unsrtnat",
   "titlepage": {
    "author": "S. Kevin McNeill",
    "email": "shonn.mcneill@atf.gov",
    "institution": [
     "National Center for Explosives Training and Research",
     "Explosives Research and Development Division"
    ],
    "subtitle": "Boiling-Liquid Expanding-Vapor Explosion",
    "title": "Overpressure Analysis of Girard Point Refinery Accident"
   }
  },
  "kernelspec": {
   "display_name": "Python 3",
   "language": "python",
   "name": "python3"
  },
  "language_info": {
   "codemirror_mode": {
    "name": "ipython",
    "version": 3
   },
   "file_extension": ".py",
   "mimetype": "text/x-python",
   "name": "python",
   "nbconvert_exporter": "python",
   "pygments_lexer": "ipython3",
   "version": "3.7.3"
  }
 },
 "nbformat": 4,
 "nbformat_minor": 2
}
