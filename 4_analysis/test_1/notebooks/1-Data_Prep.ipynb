{
  "cells": [
    {
      "cell_type": "markdown",
      "source": [
        "## philadelphia_refinery_explosion\n",
        "\n",
        "Blast pressure calculation to propel a refinery tank containing 90,000 lb of iso-butane, propane, and hydrofloric acid.  The tank was 40 ft long and 20 ft in diameter.\n",
        "\n",
        "### Data Sources\n",
        "- file1 : Description of where this file came from\n",
        "\n",
        "### Changes\n",
        "- 06-28-2019 : Started project"
      ],
      "metadata": {}
    },
    {
      "cell_type": "code",
      "source": [
        "import pandas as pd\n",
        "from pathlib import Path\n",
        "from datetime import datetime"
      ],
      "outputs": [],
      "execution_count": null,
      "metadata": {}
    },
    {
      "cell_type": "markdown",
      "source": [
        "### File Locations"
      ],
      "metadata": {}
    },
    {
      "cell_type": "code",
      "source": [
        "today = datetime.today()\n",
        "in_file = Path.cwd() / \"data\" / \"raw\" / \"FILE1\"\n",
        "summary_file = Path.cwd() / \"data\" / \"processed\" / f\"summary_{today:%b-%d-%Y}.pkl\""
      ],
      "outputs": [],
      "execution_count": null,
      "metadata": {}
    },
    {
      "cell_type": "code",
      "source": [
        "df = pd.read_csv(in_file)"
      ],
      "outputs": [],
      "execution_count": null,
      "metadata": {}
    },
    {
      "cell_type": "markdown",
      "source": [
        "### Column Cleanup\n",
        "\n",
        "- Remove all leading and trailing spaces\n",
        "- Rename the columns for consistency."
      ],
      "metadata": {}
    },
    {
      "cell_type": "code",
      "source": [
        "# https://stackoverflow.com/questions/30763351/removing-space-in-dataframe-python\n",
        "df.columns = [x.strip() for x in df.columns]"
      ],
      "outputs": [],
      "execution_count": null,
      "metadata": {}
    },
    {
      "cell_type": "code",
      "source": [
        "cols_to_rename = {'col1': 'New_Name'}\n",
        "df.rename(columns=cols_to_rename, inplace=True)"
      ],
      "outputs": [],
      "execution_count": null,
      "metadata": {}
    },
    {
      "cell_type": "markdown",
      "source": [
        "### Clean Up Data Types"
      ],
      "metadata": {}
    },
    {
      "cell_type": "code",
      "source": [
        "df.dtypes"
      ],
      "outputs": [],
      "execution_count": null,
      "metadata": {}
    },
    {
      "cell_type": "markdown",
      "source": [
        "### Data Manipulation"
      ],
      "metadata": {}
    },
    {
      "cell_type": "code",
      "source": [],
      "outputs": [],
      "execution_count": null,
      "metadata": {}
    },
    {
      "cell_type": "markdown",
      "source": [
        "### Save output file into processed directory\n",
        "\n",
        "Save a file in the processed directory that is cleaned properly. It will be read in and used later for further analysis.\n",
        "\n",
        "Other options besides pickle include:\n",
        "- feather\n",
        "- msgpack\n",
        "- parquet"
      ],
      "metadata": {}
    },
    {
      "cell_type": "code",
      "source": [
        "df.to_pickle(summary_file)"
      ],
      "outputs": [],
      "execution_count": null,
      "metadata": {}
    }
  ],
  "metadata": {
    "kernelspec": {
      "name": "python3",
      "language": "python",
      "display_name": "Python 3"
    },
    "language_info": {
      "name": "python",
      "version": "3.6.5",
      "mimetype": "text/x-python",
      "codemirror_mode": {
        "name": "ipython",
        "version": 3
      },
      "pygments_lexer": "ipython3",
      "nbconvert_exporter": "python",
      "file_extension": ".py"
    },
    "kernel_info": {
      "name": "python3"
    },
    "nteract": {
      "version": "0.12.3"
    }
  },
  "nbformat": 4,
  "nbformat_minor": 1
}