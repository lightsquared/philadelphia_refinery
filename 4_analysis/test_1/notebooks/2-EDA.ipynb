{
  "cells": [
    {
      "cell_type": "markdown",
      "source": [
        "## philadelphia_refinery_explosion\n",
        "\n",
        "Blast pressure calculation to propel a refinery tank containing 90,000 lb of iso-butane, propane, and hydrofloric acid.  The tank was 40 ft long and 20 ft in diameter.\n",
        "\n",
        "This notebook contains basic statistical analysis and visualization of the data.\n",
        "\n",
        "### Data Sources\n",
        "- summary : Processed file from notebook 1-Data_Prep\n",
        "\n",
        "### Changes\n",
        "- 06-28-2019 : Started project"
      ],
      "metadata": {}
    },
    {
      "cell_type": "code",
      "source": [
        "import pandas as pd\n",
        "from pathlib import Path\n",
        "from datetime import datetime\n",
        "import seaborn as sns"
      ],
      "outputs": [],
      "execution_count": null,
      "metadata": {}
    },
    {
      "cell_type": "code",
      "source": [
        "%matplotlib inline"
      ],
      "outputs": [],
      "execution_count": null,
      "metadata": {}
    },
    {
      "cell_type": "markdown",
      "source": [
        "### File Locations"
      ],
      "metadata": {}
    },
    {
      "cell_type": "code",
      "source": [
        "today = datetime.today()\n",
        "in_file = Path.cwd() / \"data\" / \"processed\" / f\"summary_{today:%b-%d-%Y}.pkl\"\n",
        "report_dir = Path.cwd() / \"reports\"\n",
        "report_file = report_dir / \"Excel_Analysis_{today:%b-%d-%Y}.xlsx\""
      ],
      "outputs": [],
      "execution_count": null,
      "metadata": {}
    },
    {
      "cell_type": "code",
      "source": [
        "df = pd.read_pickle(in_file)"
      ],
      "outputs": [],
      "execution_count": null,
      "metadata": {}
    },
    {
      "cell_type": "markdown",
      "source": [
        "### Perform Data Analysis"
      ],
      "metadata": {}
    },
    {
      "cell_type": "code",
      "source": [],
      "outputs": [],
      "execution_count": null,
      "metadata": {}
    },
    {
      "cell_type": "markdown",
      "source": [
        "### Save Excel file into reports directory\n",
        "\nSave an Excel file with intermediate results into the report directory"
      ],
      "metadata": {}
    },
    {
      "cell_type": "code",
      "source": [
        "writer = pd.ExcelWriter(report_file, engine='xlsxwriter')"
      ],
      "outputs": [],
      "execution_count": null,
      "metadata": {}
    },
    {
      "cell_type": "code",
      "source": [
        "df.to_excel(writer, sheet_name='Report')"
      ],
      "outputs": [],
      "execution_count": null,
      "metadata": {}
    },
    {
      "cell_type": "code",
      "source": [
        "writer.save()"
      ],
      "outputs": [],
      "execution_count": null,
      "metadata": {}
    }
  ],
  "metadata": {
    "kernelspec": {
      "name": "python3",
      "language": "python",
      "display_name": "Python 3"
    },
    "language_info": {
      "name": "python",
      "version": "3.6.5",
      "mimetype": "text/x-python",
      "codemirror_mode": {
        "name": "ipython",
        "version": 3
      },
      "pygments_lexer": "ipython3",
      "nbconvert_exporter": "python",
      "file_extension": ".py"
    },
    "kernel_info": {
      "name": "python3"
    },
    "nteract": {
      "version": "0.12.3"
    }
  },
  "nbformat": 4,
  "nbformat_minor": 1
}