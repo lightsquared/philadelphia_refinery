{
 "cells": [
  {
   "cell_type": "markdown",
   "metadata": {},
   "source": [
    "# Tank Velocity from Boiling-Liquid Exapanding-Vapor Explosions (BLEVE) Using Energy Analysis\n",
    "S. Kevin McNeill\n",
    "\n",
    "6/28/2019\n",
    "\n",
    "shonn.mcneill@atf.gov"
   ]
  },
  {
   "cell_type": "markdown",
   "metadata": {},
   "source": [
    "## Introduction\n",
    "On June 21, 2019, an accidental fire and explosion occurred at Philadelphia Energy Solutions at their Girard Point Refinery [1](https://6abc.com/hydrocarbon-vapors-identified-as-cause-of-philly-refinery-fire/5368469/).  In the explosion, a storage tank weighing 74,000 lb containing 90,000 lb of iso-butane, propane, and hyrdofloric acid was propelled approximately 2,000 ft from the blast seat.  The Philadelphia Fire Department requested ATF estimate the overpressure required to propel the tank the 2,000 ft.\n",
    "\n",
    "It is hypothesized that a boiling-liquid expanding-vapor explosion (BLEVE) event provided the energy needed to launch the tank the 2,000 ft.  This notebook is an engineering analysis to estimate the distance the tank would have been thown if a BLEVE event occured [2](https://www.researchgate.net/publication/267648275_Maximum_Missile_Velocity_From_Boiling-Liquid_Expanding-Vapor_Explosions_BLEVE_Using_Exergy_Analysis).  The analysis is based upon an energy analysis developed by Ramirez et.al.  \n",
    "\n",
    "## Background\n",
    "A BLEVE results from the sudden loss of containment of a liquid heated above its normal boiling point. The loss of containment is usually the result of a catastrophic failure of the container or vessel holding the superheated liquid. There are two contributors to the BLEVE blast wave: \n",
    "\n",
    "1. the com-pressed vapor in the container head space and \n",
    "2. the vaporflashing from the superheated liquid. \n",
    "\n",
    "The magnitude of the blast also depends on the degree of superheat, that is, the temperature increment above the normal boiling point. As the degree of superheat increases, the fraction of liquid that flashes increases, thus increasing the severity of the blast. An assumption common to most of these models is that the flashing phenomenon is an adiabatic vaporization process, where the driving force for vaporization is the difference in the initial and final states of fluid enthalpy.\n",
    "\n",
    "The thermodynamic energy of the iso-butane, propane, and hyrdofloric acid contained withing the tank is given by,\n",
    "\n",
    "$$E = (U-U_0)+P_0(V-V_0)-T_0(S-S_0)$$\n",
    "\n",
    "Where $U$ is the internal energy, $P$ is the pressure, $V$ is the volume, and $S$ is the entropy.\n",
    "      "
   ]
  },
  {
   "cell_type": "markdown",
   "metadata": {},
   "source": [
    "### Notebook Imports"
   ]
  },
  {
   "cell_type": "code",
   "execution_count": 1,
   "metadata": {},
   "outputs": [
    {
     "data": {
      "text/html": [
       "        <script type=\"text/javascript\">\n",
       "        window.PlotlyConfig = {MathJaxConfig: 'local'};\n",
       "        if (window.MathJax) {MathJax.Hub.Config({SVG: {font: \"STIX-Web\"}});}\n",
       "        if (typeof require !== 'undefined') {\n",
       "        require.undef(\"plotly\");\n",
       "        requirejs.config({\n",
       "            paths: {\n",
       "                'plotly': ['https://cdn.plot.ly/plotly-latest.min']\n",
       "            }\n",
       "        });\n",
       "        require(['plotly'], function(Plotly) {\n",
       "            window._Plotly = Plotly;\n",
       "        });\n",
       "        }\n",
       "        </script>\n",
       "        "
      ]
     },
     "metadata": {},
     "output_type": "display_data"
    },
    {
     "name": "stderr",
     "output_type": "stream",
     "text": [
      "/Users/skmcneill/anaconda3/lib/python3.7/site-packages/plotly/graph_objs/_deprecations.py:558: DeprecationWarning:\n",
      "\n",
      "plotly.graph_objs.YAxis is deprecated.\n",
      "Please replace it with one of the following more specific types\n",
      "  - plotly.graph_objs.layout.YAxis\n",
      "  - plotly.graph_objs.layout.scene.YAxis\n",
      "\n",
      "\n",
      "/Users/skmcneill/anaconda3/lib/python3.7/site-packages/plotly/graph_objs/_deprecations.py:531: DeprecationWarning:\n",
      "\n",
      "plotly.graph_objs.XAxis is deprecated.\n",
      "Please replace it with one of the following more specific types\n",
      "  - plotly.graph_objs.layout.XAxis\n",
      "  - plotly.graph_objs.layout.scene.XAxis\n",
      "\n",
      "\n"
     ]
    },
    {
     "data": {
      "text/html": [
       "        <script type=\"text/javascript\">\n",
       "        window.PlotlyConfig = {MathJaxConfig: 'local'};\n",
       "        if (window.MathJax) {MathJax.Hub.Config({SVG: {font: \"STIX-Web\"}});}\n",
       "        if (typeof require !== 'undefined') {\n",
       "        require.undef(\"plotly\");\n",
       "        requirejs.config({\n",
       "            paths: {\n",
       "                'plotly': ['https://cdn.plot.ly/plotly-latest.min']\n",
       "            }\n",
       "        });\n",
       "        require(['plotly'], function(Plotly) {\n",
       "            window._Plotly = Plotly;\n",
       "        });\n",
       "        }\n",
       "        </script>\n",
       "        "
      ]
     },
     "metadata": {},
     "output_type": "display_data"
    }
   ],
   "source": [
    "\n",
    "# Data manipulation\n",
    "import pandas as pd\n",
    "import numpy as np\n",
    "\n",
    "# Options for pandas\n",
    "pd.options.display.max_columns = 50\n",
    "pd.options.display.max_rows = 30\n",
    "\n",
    "# Display all cell outputs\n",
    "from IPython.core.interactiveshell import InteractiveShell\n",
    "InteractiveShell.ast_node_interactivity = 'all'\n",
    "\n",
    "from IPython import get_ipython\n",
    "ipython = get_ipython()\n",
    "\n",
    "# autoreload extension\n",
    "if 'autoreload' not in ipython.extension_manager.loaded:\n",
    "    %load_ext autoreload\n",
    "\n",
    "%autoreload 2\n",
    "\n",
    "# Visualizations\n",
    "import plotly.plotly as py\n",
    "import plotly.graph_objs as go\n",
    "from plotly.offline import iplot, init_notebook_mode\n",
    "init_notebook_mode(connected=True)\n",
    "\n",
    "import cufflinks as cf\n",
    "cf.go_offline(connected=True)\n",
    "cf.set_config_file(theme='white')"
   ]
  },
  {
   "cell_type": "markdown",
   "metadata": {},
   "source": [
    "## Import Data\n",
    "Load data needed for analysis.\n",
    "      "
   ]
  },
  {
   "cell_type": "markdown",
   "metadata": {},
   "source": [
    "## Cleanup Data\n",
    "Like families, tidy datasets are all alike but every messy dataset is messy in its own way. Tidy datasets provide a standardized way to link the structure of a dataset (its physical layout) with its semantics (its meaning). In this section, I’ll provide some standard vocabulary for describing the structure and semantics of a dataset, and then use those definitions to define tidy data.\n",
    "[tidyr](https://tidyr.tidyverse.org/articles/tidy-data.html)\n",
    "      "
   ]
  },
  {
   "cell_type": "markdown",
   "metadata": {},
   "source": [
    "## Analysis/Modeling"
   ]
  },
  {
   "cell_type": "markdown",
   "metadata": {},
   "source": [
    "## Results\n",
    "- Focus on main analysis steps and findings\n",
    "- Remove intermediate results or move to supplement\n",
    "      "
   ]
  },
  {
   "cell_type": "markdown",
   "metadata": {},
   "source": [
    "## Conclusion"
   ]
  },
  {
   "cell_type": "code",
   "execution_count": null,
   "metadata": {},
   "outputs": [],
   "source": []
  }
 ],
 "metadata": {
  "kernelspec": {
   "display_name": "Python 3",
   "language": "python",
   "name": "python3"
  },
  "language_info": {
   "codemirror_mode": {
    "name": "ipython",
    "version": 3
   },
   "file_extension": ".py",
   "mimetype": "text/x-python",
   "name": "python",
   "nbconvert_exporter": "python",
   "pygments_lexer": "ipython3",
   "version": "3.7.3"
  }
 },
 "nbformat": 4,
 "nbformat_minor": 2
}
